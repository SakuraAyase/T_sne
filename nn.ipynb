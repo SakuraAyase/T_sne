{
 "cells": [
  {
   "cell_type": "code",
   "execution_count": 45,
   "metadata": {
    "collapsed": false
   },
   "outputs": [
    {
     "name": "stdout",
     "output_type": "stream",
     "text": [
      "[[ 5.1  3.5]\n [ 1.4  0.2]]\n"
     ]
    }
   ],
   "source": [
    "from sklearn.datasets import load_iris\n",
    "from numpy import *\n",
    "from scipy import *\n",
    "data=load_iris()\n",
    "x_temp=data[\"data\"]\n",
    "y_temp=data[\"target\"]\n",
    "y=array(zeros((len(y_temp),3)))\n",
    "for i in range(len(y_temp)):\n",
    "    y[i][y_temp[i]]=1;\n",
    "x=[]\n",
    "for i in range(len(x_temp)):\n",
    "    x.append(array([[x_temp[i][0],x_temp[i][1]],[x_temp[i][2],x_temp[i][3]]]))\n",
    "print(x[0])"
   ]
  },
  {
   "cell_type": "code",
   "execution_count": 57,
   "metadata": {},
   "outputs": [
    {
     "name": "stdout",
     "output_type": "stream",
     "text": [
      "-10000\n5.56285749009\n5.56285749009\n-10000\n2.56861896326\n2.56861896326\n{'w*x': [array([[ 7.42770238,  5.56285749],\n       [-4.19583201, -2.06319486]]), array([[ 1.19142473,  2.56861896],\n       [ 7.83285034,  5.95459979]])], 'max_out': [7.4277023755724256, 7.8328503362509032], 'max_index': [[0, 0], [1, 0]]}\n"
     ]
    }
   ],
   "source": [
    "random.seed(1)\n",
    "w=[array(random.randn(2,2)),array(random.randn(2,2))]\n",
    "def maxout(W,X):\n",
    "    temp=[dot(W[0],X),dot(W[1],X)]\n",
    "\n",
    "    max_sum=[]\n",
    "    max_num=[-10000,-10000];\n",
    "    for n in range(len(W)):\n",
    "        a=temp[n]\n",
    "        max_n=max_num[n]\n",
    "        max=[0,0]\n",
    "        print(max_n)\n",
    "        for i in range(2):\n",
    "            print(a[0][1])\n",
    "            for j in range(2): \n",
    "                if(a[i][j]>max_n):\n",
    "                    max[0]=i\n",
    "                    max[1]=j\n",
    "                    max_n=temp[n][i][j]\n",
    "        max_sum.append(max)\n",
    "        max_num[n]=max_n\n",
    "    return {\"w*x\":temp,\"max_out\":max_num,\"max_index\":max_sum}\n",
    "\n",
    "print(maxout(w,x[0]))"
   ]
  },
  {
   "cell_type": "code",
   "execution_count": 58,
   "metadata": {},
   "outputs": [],
   "source": [
    "def max_decent(parament,W,da,x):\n",
    "    w1=W[0];\n",
    "    w2=W[1];\n",
    "    w_x=parament[\"w*x\"]\n",
    "    max_num=pare"
   ]
  },
  {
   "cell_type": "code",
   "execution_count": 30,
   "metadata": {},
   "outputs": [],
   "source": [
    ""
   ]
  },
  {
   "cell_type": "code",
   "execution_count": null,
   "metadata": {},
   "outputs": [],
   "source": [
    ""
   ]
  }
 ],
 "metadata": {
  "kernelspec": {
   "display_name": "Python 2",
   "language": "python",
   "name": "python2"
  },
  "language_info": {
   "codemirror_mode": {
    "name": "ipython",
    "version": 2.0
   },
   "file_extension": ".py",
   "mimetype": "text/x-python",
   "name": "python",
   "nbconvert_exporter": "python",
   "pygments_lexer": "ipython2",
   "version": "2.7.6"
  }
 },
 "nbformat": 4,
 "nbformat_minor": 0
}